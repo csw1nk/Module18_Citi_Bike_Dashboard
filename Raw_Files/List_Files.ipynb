{
 "cells": [
  {
   "cell_type": "code",
   "execution_count": 1,
   "id": "753fa379-d1ec-445e-a8fc-68a2c387c3c3",
   "metadata": {},
   "outputs": [
    {
     "name": "stdout",
     "output_type": "stream",
     "text": [
      "Files and directories in '.':\n",
      ".ipynb_checkpoints\n",
      "202401-citibike-tripdata_1.csv\n",
      "202401-citibike-tripdata_2.csv\n",
      "202402-citibike-tripdata_1.csv\n",
      "202402-citibike-tripdata_2.csv\n",
      "202402-citibike-tripdata_3.csv\n",
      "202403-citibike-tripdata_1.csv\n",
      "202403-citibike-tripdata_2.csv\n",
      "202403-citibike-tripdata_3.csv\n",
      "List_Files.ipynb\n"
     ]
    }
   ],
   "source": [
    "import os\n",
    "\n",
    "def list_files(directory=\".\"):\n",
    "    \"\"\"\n",
    "    Prints all files and directories in the given directory.\n",
    "    The default directory is the current directory where the script is executed.\n",
    "    \"\"\"\n",
    "    # Get the list of all files and directories in the specified directory\n",
    "    files = os.listdir(directory)\n",
    "    print(f\"Files and directories in '{directory}':\")\n",
    "    for file in files:\n",
    "        print(file)\n",
    "\n",
    "# Call the function without specifying a path, it will default to the current directory\n",
    "list_files()\n"
   ]
  },
  {
   "cell_type": "code",
   "execution_count": null,
   "id": "6dab72cc-1a24-470d-a977-28c01a175a7c",
   "metadata": {},
   "outputs": [],
   "source": []
  }
 ],
 "metadata": {
  "kernelspec": {
   "display_name": "Python 3 (ipykernel)",
   "language": "python",
   "name": "python3"
  },
  "language_info": {
   "codemirror_mode": {
    "name": "ipython",
    "version": 3
   },
   "file_extension": ".py",
   "mimetype": "text/x-python",
   "name": "python",
   "nbconvert_exporter": "python",
   "pygments_lexer": "ipython3",
   "version": "3.11.5"
  }
 },
 "nbformat": 4,
 "nbformat_minor": 5
}

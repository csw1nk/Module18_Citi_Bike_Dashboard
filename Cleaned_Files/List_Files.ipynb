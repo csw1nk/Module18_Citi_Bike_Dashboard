{
 "cells": [
  {
   "cell_type": "code",
   "execution_count": 1,
   "id": "2d49a29e-d7c7-47d1-bf86-0c38b92f2472",
   "metadata": {},
   "outputs": [
    {
     "name": "stdout",
     "output_type": "stream",
     "text": [
      "Files and directories in '.':\n",
      ".ipynb_checkpoints\n",
      "csw1nk_master.csv\n",
      "csw1nk_master_raw.csv\n",
      "csw1nk_tableau_data.csv\n",
      "grouped_by_day.csv\n",
      "grouped_by_geocluster.csv\n",
      "grouped_by_hour.csv\n",
      "grouped_by_member.csv\n",
      "grouped_by_month.csv\n",
      "grouped_by_route.csv\n",
      "grouped_by_type.csv\n",
      "List_Files.ipynb\n",
      "station_data.csv\n"
     ]
    }
   ],
   "source": [
    "import os\n",
    "\n",
    "def list_files(directory=\".\"):\n",
    "    \"\"\"\n",
    "    Prints all files and directories in the given directory.\n",
    "    The default directory is the current directory where the script is executed.\n",
    "    \"\"\"\n",
    "    # Get the list of all files and directories in the specified directory\n",
    "    files = os.listdir(directory)\n",
    "    print(f\"Files and directories in '{directory}':\")\n",
    "    for file in files:\n",
    "        print(file)\n",
    "\n",
    "# Call the function without specifying a path, it will default to the current directory\n",
    "list_files()"
   ]
  },
  {
   "cell_type": "code",
   "execution_count": null,
   "id": "047fb35d-7c3e-4d3d-b469-8652d63f9487",
   "metadata": {},
   "outputs": [],
   "source": []
  }
 ],
 "metadata": {
  "kernelspec": {
   "display_name": "Python 3 (ipykernel)",
   "language": "python",
   "name": "python3"
  },
  "language_info": {
   "codemirror_mode": {
    "name": "ipython",
    "version": 3
   },
   "file_extension": ".py",
   "mimetype": "text/x-python",
   "name": "python",
   "nbconvert_exporter": "python",
   "pygments_lexer": "ipython3",
   "version": "3.11.5"
  }
 },
 "nbformat": 4,
 "nbformat_minor": 5
}
